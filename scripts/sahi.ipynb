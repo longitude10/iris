{
 "cells": [
  {
   "cell_type": "code",
   "execution_count": 2,
   "metadata": {},
   "outputs": [],
   "source": [
    "from sahi import AutoDetectionModel\n",
    "from sahi.utils.cv import read_image\n",
    "from sahi.utils.file import download_from_url\n",
    "from sahi.predict import get_prediction, get_sliced_prediction, predict\n",
    "from IPython.display import Image"
   ]
  },
  {
   "cell_type": "code",
   "execution_count": null,
   "metadata": {},
   "outputs": [],
   "source": [
    "models = 'runs/detect/train4/weights/benur_tuned_2.pt'\n",
    "\n",
    "\n",
    "\n",
    "detection_model = AutoDetectionModel.from_pretrained(\n",
    "    model_type='yolov8',\n",
    "    model_path=models,\n",
    "    confidence_threshold=0.3,\n",
    "    device=\"cuda:0\", # or 'cuda:0'\n",
    ")\n",
    "\n",
    "result = get_sliced_prediction(\n",
    "    r'C:\\Users\\Harish\\Documents\\arkhen\\irisFlask\\static\\IMG_3517_(2).JPG',\n",
    "    detection_model,\n",
    "    slice_height = 256,\n",
    "    slice_width = 256,\n",
    "    overlap_height_ratio = 0.2,\n",
    "    overlap_width_ratio = 0.2,\n",
    ")\n",
    "\n",
    "\n",
    "len(result.object_prediction_list)\n",
    "# result.export_visuals(export_dir=\"demo_data/\", text_size= 0.2, hide_labels=True, rect_th=4)"
   ]
  },
  {
   "cell_type": "code",
   "execution_count": null,
   "metadata": {},
   "outputs": [],
   "source": [
    "result.export_visuals(export_dir=\"demo_data/\", text_size= 0.2, hide_labels=True, rect_th=4)\n",
    "from IPython.display import Image\n",
    "Image('demo_data/prediction_visual.png')"
   ]
  }
 ],
 "metadata": {
  "kernelspec": {
   "display_name": "Python 3",
   "language": "python",
   "name": "python3"
  },
  "language_info": {
   "codemirror_mode": {
    "name": "ipython",
    "version": 3
   },
   "file_extension": ".py",
   "mimetype": "text/x-python",
   "name": "python",
   "nbconvert_exporter": "python",
   "pygments_lexer": "ipython3",
   "version": "3.10.0"
  },
  "orig_nbformat": 4
 },
 "nbformat": 4,
 "nbformat_minor": 2
}
