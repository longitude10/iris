{
 "cells": [
  {
   "cell_type": "code",
   "execution_count": null,
   "metadata": {},
   "outputs": [],
   "source": [
    "from ultralytics import YOLO\n",
    "model = YOLO('yolov8n.pt')\n",
    "\n",
    "model.train(\n",
    "    data='data.yaml',\n",
    "    epochs=100,\n",
    "    batch=32,\n",
    "    imgsz=640,\n",
    "    augment=True,\n",
    "    hsv_h=0.015,\n",
    "    hsv_s=0.7, hsv_v=0.4,\n",
    "    fliplr=0.5, \n",
    "    degrees=20, \n",
    "    translate=0.1, \n",
    "    scale=0.5\n",
    ")\n",
    "metrics = model.val(data='data.yaml')"
   ]
  }
 ],
 "metadata": {
  "language_info": {
   "name": "python"
  },
  "orig_nbformat": 4
 },
 "nbformat": 4,
 "nbformat_minor": 2
}
