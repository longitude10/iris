{
 "cells": [
  {
   "cell_type": "code",
   "execution_count": null,
   "metadata": {},
   "outputs": [],
   "source": [
    "# Load trained model\n",
    "import gradio as gr\n",
    "from sahi.predict import get_sliced_prediction\n",
    "from sahi import AutoDetectionModel\n",
    "from ultralytics import YOLO\n",
    "models = 'your_path_model' #ganti path model\n",
    "\n",
    "detection_model = AutoDetectionModel.from_pretrained(\n",
    "    model_type='yolov8',\n",
    "    model_path=models,\n",
    "    confidence_threshold=0.3,\n",
    "    device=\"cuda:0\"  # Gunakan GPU jika tersedia\n",
    ")\n",
    "\n",
    "# Function untuk inference dengan Gradio\n",
    "def detect_objects(image):\n",
    "    # Lakukan prediksi dengan slicing\n",
    "    result = get_sliced_prediction(\n",
    "        image,\n",
    "        detection_model,\n",
    "        slice_height=256,\n",
    "        slice_width=256,\n",
    "        overlap_height_ratio=0.2,\n",
    "        overlap_width_ratio=0.2,\n",
    "    )\n",
    "\n",
    "    # Simpan hasil visualisasi\n",
    "    output_path = \"output.jpg\"\n",
    "    result.export_visuals(export_dir=\".\", text_size=0.5, hide_labels=False, rect_th=2)\n",
    "    \n",
    "    return output_path, len(result.object_prediction_list)\n",
    "\n",
    "# Buat antarmuka Gradio\n",
    "interface = gr.Interface(\n",
    "    fn=detect_objects,\n",
    "    inputs=gr.Image(type=\"filepath\"),\n",
    "    outputs=[gr.Image(label=\"Detection Result\"), gr.Number(label=\"Object Count\")],\n",
    "    title=\"YOLOv8 Object Detection with SAHI\",\n",
    "    description=\"Upload an image and detect objects using a YOLOv8 model with slicing.\",\n",
    ")\n",
    "\n",
    "# Jalankan aplikasi\n",
    "interface.launch(debug=True, share=True)"
   ]
  }
 ],
 "metadata": {
  "language_info": {
   "name": "python"
  },
  "orig_nbformat": 4
 },
 "nbformat": 4,
 "nbformat_minor": 2
}
